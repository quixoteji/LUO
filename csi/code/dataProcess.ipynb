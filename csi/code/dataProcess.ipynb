{
 "cells": [
  {
   "cell_type": "code",
   "execution_count": 1,
   "metadata": {
    "collapsed": true
   },
   "outputs": [],
   "source": [
    "import pandas as pd"
   ]
  },
  {
   "cell_type": "code",
   "execution_count": 2,
   "metadata": {
    "collapsed": false
   },
   "outputs": [
    {
     "name": "stdout",
     "output_type": "stream",
     "text": [
      "ANNmodel.ipynb     csi2data.csv       data.csv           test.ipynb\r\n",
      "BU1data.csv        csi3data.csv       dataProcess.ipynb  untitled.txt\r\n",
      "BU2data.csv        csi4data.csv       model.ipynb\r\n",
      "csi1data.csv       csi5data.csv       run.py\r\n"
     ]
    }
   ],
   "source": [
    "ls"
   ]
  },
  {
   "cell_type": "code",
   "execution_count": 13,
   "metadata": {
    "collapsed": false,
    "scrolled": false
   },
   "outputs": [],
   "source": [
    "df_BU1 = pd.read_csv('BU1data.csv', header=None)\n",
    "df_BU2 = pd.read_csv('BU2data.csv', header=None)\n",
    "df_CS1 = pd.read_csv('csi1data.csv', header=None)\n",
    "df_CS2 = pd.read_csv('csi2data.csv', header=None)\n",
    "df_CS3 = pd.read_csv('csi3data.csv', header=None)\n",
    "df_CS4 = pd.read_csv('csi4data.csv', header=None)"
   ]
  },
  {
   "cell_type": "code",
   "execution_count": 14,
   "metadata": {
    "collapsed": false
   },
   "outputs": [
    {
     "name": "stdout",
     "output_type": "stream",
     "text": [
      "BU1  3313\n",
      "BU2  5313\n",
      "CSI1 8215\n",
      "CSI2 9684\n",
      "CSI3 5673\n",
      "CSI4 7616\n",
      "CSI5 45104\n"
     ]
    }
   ],
   "source": [
    "print('BU1 ', len(df_BU1))\n",
    "print('BU2 ', len(df_BU2))\n",
    "print('CSI1', len(df_CS1))\n",
    "print('CSI2', len(df_CS2))\n",
    "print('CSI3', len(df_CS3))\n",
    "print('CSI4', len(df_CS4))\n",
    "print('CSI5', len(df_CS5))"
   ]
  },
  {
   "cell_type": "code",
   "execution_count": 16,
   "metadata": {
    "collapsed": false
   },
   "outputs": [],
   "source": [
    "d1 = df_BU1[2]\n",
    "d2 = df_BU2[2][:len(d1.index)]\n",
    "d3 = df_CS1[2][:len(d1.index)]\n",
    "d4 = df_CS2[2][:len(d1.index)]\n",
    "d5 = df_CS3[2][:len(d1.index)]\n",
    "d6 = df_CS4[2][:len(d1.index)]\n",
    "d7 = df_CS5[2][:len(d1.index)]"
   ]
  },
  {
   "cell_type": "code",
   "execution_count": 21,
   "metadata": {
    "collapsed": false
   },
   "outputs": [
    {
     "data": {
      "text/html": [
       "<div>\n",
       "<table border=\"1\" class=\"dataframe\">\n",
       "  <thead>\n",
       "    <tr style=\"text-align: right;\">\n",
       "      <th></th>\n",
       "      <th>d1</th>\n",
       "      <th>d2</th>\n",
       "      <th>d3</th>\n",
       "      <th>d4</th>\n",
       "      <th>d5</th>\n",
       "      <th>d6</th>\n",
       "    </tr>\n",
       "  </thead>\n",
       "  <tbody>\n",
       "    <tr>\n",
       "      <th>0</th>\n",
       "      <td>18.748</td>\n",
       "      <td>22.174</td>\n",
       "      <td>24.225</td>\n",
       "      <td>27.027</td>\n",
       "      <td>24.109</td>\n",
       "      <td>21.731</td>\n",
       "    </tr>\n",
       "    <tr>\n",
       "      <th>1</th>\n",
       "      <td>19.102</td>\n",
       "      <td>20.970</td>\n",
       "      <td>22.395</td>\n",
       "      <td>28.291</td>\n",
       "      <td>25.398</td>\n",
       "      <td>20.170</td>\n",
       "    </tr>\n",
       "    <tr>\n",
       "      <th>2</th>\n",
       "      <td>18.901</td>\n",
       "      <td>24.957</td>\n",
       "      <td>24.794</td>\n",
       "      <td>28.883</td>\n",
       "      <td>26.604</td>\n",
       "      <td>17.242</td>\n",
       "    </tr>\n",
       "    <tr>\n",
       "      <th>3</th>\n",
       "      <td>19.378</td>\n",
       "      <td>23.571</td>\n",
       "      <td>25.140</td>\n",
       "      <td>26.899</td>\n",
       "      <td>26.671</td>\n",
       "      <td>20.433</td>\n",
       "    </tr>\n",
       "    <tr>\n",
       "      <th>4</th>\n",
       "      <td>19.460</td>\n",
       "      <td>25.301</td>\n",
       "      <td>23.356</td>\n",
       "      <td>27.522</td>\n",
       "      <td>26.450</td>\n",
       "      <td>20.427</td>\n",
       "    </tr>\n",
       "  </tbody>\n",
       "</table>\n",
       "</div>"
      ],
      "text/plain": [
       "       d1      d2      d3      d4      d5      d6\n",
       "0  18.748  22.174  24.225  27.027  24.109  21.731\n",
       "1  19.102  20.970  22.395  28.291  25.398  20.170\n",
       "2  18.901  24.957  24.794  28.883  26.604  17.242\n",
       "3  19.378  23.571  25.140  26.899  26.671  20.433\n",
       "4  19.460  25.301  23.356  27.522  26.450  20.427"
      ]
     },
     "execution_count": 21,
     "metadata": {},
     "output_type": "execute_result"
    }
   ],
   "source": [
    "# df = pd.concat([d1,d2,d3,d4,d5,d6,d7], axis=1)\n",
    "# df.head()\n",
    "df1 = pd.DataFrame({'d1':d1, 'd2':d2, 'd3':d3, 'd4':d4, 'd5':d5, 'd6':d6})\n",
    "\n",
    "df1.to_csv('data1.csv')\n",
    "df1.head()"
   ]
  },
  {
   "cell_type": "code",
   "execution_count": 22,
   "metadata": {
    "collapsed": false
   },
   "outputs": [
    {
     "data": {
      "text/html": [
       "<div>\n",
       "<table border=\"1\" class=\"dataframe\">\n",
       "  <thead>\n",
       "    <tr style=\"text-align: right;\">\n",
       "      <th></th>\n",
       "      <th>d1</th>\n",
       "      <th>d2</th>\n",
       "      <th>d3</th>\n",
       "      <th>d4</th>\n",
       "      <th>d5</th>\n",
       "      <th>d6</th>\n",
       "    </tr>\n",
       "  </thead>\n",
       "  <tbody>\n",
       "    <tr>\n",
       "      <th>0</th>\n",
       "      <td>24.432</td>\n",
       "      <td>17.293</td>\n",
       "      <td>22.861</td>\n",
       "      <td>13.5540</td>\n",
       "      <td>12.2170</td>\n",
       "      <td>26.020</td>\n",
       "    </tr>\n",
       "    <tr>\n",
       "      <th>1</th>\n",
       "      <td>20.347</td>\n",
       "      <td>13.856</td>\n",
       "      <td>21.673</td>\n",
       "      <td>16.9290</td>\n",
       "      <td>19.8210</td>\n",
       "      <td>25.346</td>\n",
       "    </tr>\n",
       "    <tr>\n",
       "      <th>2</th>\n",
       "      <td>23.825</td>\n",
       "      <td>15.524</td>\n",
       "      <td>21.750</td>\n",
       "      <td>16.9310</td>\n",
       "      <td>7.5323</td>\n",
       "      <td>21.583</td>\n",
       "    </tr>\n",
       "    <tr>\n",
       "      <th>3</th>\n",
       "      <td>22.862</td>\n",
       "      <td>20.812</td>\n",
       "      <td>20.712</td>\n",
       "      <td>7.7814</td>\n",
       "      <td>16.5950</td>\n",
       "      <td>23.263</td>\n",
       "    </tr>\n",
       "    <tr>\n",
       "      <th>4</th>\n",
       "      <td>22.847</td>\n",
       "      <td>16.763</td>\n",
       "      <td>22.319</td>\n",
       "      <td>12.8620</td>\n",
       "      <td>21.5010</td>\n",
       "      <td>24.858</td>\n",
       "    </tr>\n",
       "  </tbody>\n",
       "</table>\n",
       "</div>"
      ],
      "text/plain": [
       "       d1      d2      d3       d4       d5      d6\n",
       "0  24.432  17.293  22.861  13.5540  12.2170  26.020\n",
       "1  20.347  13.856  21.673  16.9290  19.8210  25.346\n",
       "2  23.825  15.524  21.750  16.9310   7.5323  21.583\n",
       "3  22.862  20.812  20.712   7.7814  16.5950  23.263\n",
       "4  22.847  16.763  22.319  12.8620  21.5010  24.858"
      ]
     },
     "execution_count": 22,
     "metadata": {},
     "output_type": "execute_result"
    }
   ],
   "source": [
    "d1 = df_BU1[3]\n",
    "d2 = df_BU2[3][:len(d1.index)]\n",
    "d3 = df_CS1[3][:len(d1.index)]\n",
    "d4 = df_CS2[3][:len(d1.index)]\n",
    "d5 = df_CS3[3][:len(d1.index)]\n",
    "d6 = df_CS4[3][:len(d1.index)]\n",
    "d7 = df_CS5[3][:len(d1.index)]\n",
    "df2 = pd.DataFrame({'d1':d1, 'd2':d2, 'd3':d3, 'd4':d4, 'd5':d5, 'd6':d6})\n",
    "df2.to_csv('data2.csv')\n",
    "df2.head()"
   ]
  },
  {
   "cell_type": "code",
   "execution_count": 23,
   "metadata": {
    "collapsed": false
   },
   "outputs": [
    {
     "data": {
      "text/html": [
       "<div>\n",
       "<table border=\"1\" class=\"dataframe\">\n",
       "  <thead>\n",
       "    <tr style=\"text-align: right;\">\n",
       "      <th></th>\n",
       "      <th>d1</th>\n",
       "      <th>d2</th>\n",
       "      <th>d3</th>\n",
       "      <th>d4</th>\n",
       "      <th>d5</th>\n",
       "      <th>d6</th>\n",
       "    </tr>\n",
       "  </thead>\n",
       "  <tbody>\n",
       "    <tr>\n",
       "      <th>0</th>\n",
       "      <td>19.325</td>\n",
       "      <td>19.368</td>\n",
       "      <td>24.721</td>\n",
       "      <td>26.166</td>\n",
       "      <td>18.345</td>\n",
       "      <td>19.493</td>\n",
       "    </tr>\n",
       "    <tr>\n",
       "      <th>1</th>\n",
       "      <td>18.151</td>\n",
       "      <td>19.756</td>\n",
       "      <td>23.453</td>\n",
       "      <td>27.011</td>\n",
       "      <td>19.821</td>\n",
       "      <td>20.433</td>\n",
       "    </tr>\n",
       "    <tr>\n",
       "      <th>2</th>\n",
       "      <td>20.347</td>\n",
       "      <td>21.972</td>\n",
       "      <td>23.715</td>\n",
       "      <td>27.616</td>\n",
       "      <td>21.760</td>\n",
       "      <td>21.731</td>\n",
       "    </tr>\n",
       "    <tr>\n",
       "      <th>3</th>\n",
       "      <td>20.071</td>\n",
       "      <td>20.458</td>\n",
       "      <td>21.187</td>\n",
       "      <td>24.308</td>\n",
       "      <td>22.862</td>\n",
       "      <td>20.253</td>\n",
       "    </tr>\n",
       "    <tr>\n",
       "      <th>4</th>\n",
       "      <td>20.452</td>\n",
       "      <td>21.171</td>\n",
       "      <td>22.622</td>\n",
       "      <td>25.662</td>\n",
       "      <td>20.543</td>\n",
       "      <td>20.638</td>\n",
       "    </tr>\n",
       "  </tbody>\n",
       "</table>\n",
       "</div>"
      ],
      "text/plain": [
       "       d1      d2      d3      d4      d5      d6\n",
       "0  19.325  19.368  24.721  26.166  18.345  19.493\n",
       "1  18.151  19.756  23.453  27.011  19.821  20.433\n",
       "2  20.347  21.972  23.715  27.616  21.760  21.731\n",
       "3  20.071  20.458  21.187  24.308  22.862  20.253\n",
       "4  20.452  21.171  22.622  25.662  20.543  20.638"
      ]
     },
     "execution_count": 23,
     "metadata": {},
     "output_type": "execute_result"
    }
   ],
   "source": [
    "d1 = df_BU1[4]\n",
    "d2 = df_BU2[4][:len(d1.index)]\n",
    "d3 = df_CS1[4][:len(d1.index)]\n",
    "d4 = df_CS2[4][:len(d1.index)]\n",
    "d5 = df_CS3[4][:len(d1.index)]\n",
    "d6 = df_CS4[4][:len(d1.index)]\n",
    "d7 = df_CS5[4][:len(d1.index)]\n",
    "df2 = pd.DataFrame({'d1':d1, 'd2':d2, 'd3':d3, 'd4':d4, 'd5':d5, 'd6':d6})\n",
    "df2.to_csv('data3.csv')\n",
    "df2.head()"
   ]
  },
  {
   "cell_type": "code",
   "execution_count": 24,
   "metadata": {
    "collapsed": false
   },
   "outputs": [
    {
     "data": {
      "text/html": [
       "<div>\n",
       "<table border=\"1\" class=\"dataframe\">\n",
       "  <thead>\n",
       "    <tr style=\"text-align: right;\">\n",
       "      <th></th>\n",
       "      <th>d1</th>\n",
       "      <th>d2</th>\n",
       "      <th>d3</th>\n",
       "      <th>d4</th>\n",
       "      <th>d5</th>\n",
       "      <th>d6</th>\n",
       "    </tr>\n",
       "  </thead>\n",
       "  <tbody>\n",
       "    <tr>\n",
       "      <th>0</th>\n",
       "      <td>23.079</td>\n",
       "      <td>15.448</td>\n",
       "      <td>20.618</td>\n",
       "      <td>-inf</td>\n",
       "      <td>23.715</td>\n",
       "      <td>26.883</td>\n",
       "    </tr>\n",
       "    <tr>\n",
       "      <th>1</th>\n",
       "      <td>19.606</td>\n",
       "      <td>13.755</td>\n",
       "      <td>20.076</td>\n",
       "      <td>10.278000</td>\n",
       "      <td>21.093</td>\n",
       "      <td>26.536</td>\n",
       "    </tr>\n",
       "    <tr>\n",
       "      <th>2</th>\n",
       "      <td>20.898</td>\n",
       "      <td>16.582</td>\n",
       "      <td>20.346</td>\n",
       "      <td>7.780800</td>\n",
       "      <td>21.893</td>\n",
       "      <td>26.785</td>\n",
       "    </tr>\n",
       "    <tr>\n",
       "      <th>3</th>\n",
       "      <td>21.419</td>\n",
       "      <td>17.315</td>\n",
       "      <td>18.132</td>\n",
       "      <td>-1.761100</td>\n",
       "      <td>22.616</td>\n",
       "      <td>28.276</td>\n",
       "    </tr>\n",
       "    <tr>\n",
       "      <th>4</th>\n",
       "      <td>20.347</td>\n",
       "      <td>15.778</td>\n",
       "      <td>21.418</td>\n",
       "      <td>7.532400</td>\n",
       "      <td>26.300</td>\n",
       "      <td>28.500</td>\n",
       "    </tr>\n",
       "  </tbody>\n",
       "</table>\n",
       "</div>"
      ],
      "text/plain": [
       "       d1      d2      d3         d4      d5      d6\n",
       "0  23.079  15.448  20.618       -inf  23.715  26.883\n",
       "1  19.606  13.755  20.076  10.278000  21.093  26.536\n",
       "2  20.898  16.582  20.346   7.780800  21.893  26.785\n",
       "3  21.419  17.315  18.132  -1.761100  22.616  28.276\n",
       "4  20.347  15.778  21.418   7.532400  26.300  28.500"
      ]
     },
     "execution_count": 24,
     "metadata": {},
     "output_type": "execute_result"
    }
   ],
   "source": [
    "d1 = df_BU1[5]\n",
    "d2 = df_BU2[5][:len(d1.index)]\n",
    "d3 = df_CS1[5][:len(d1.index)]\n",
    "d4 = df_CS2[5][:len(d1.index)]\n",
    "d5 = df_CS3[5][:len(d1.index)]\n",
    "d6 = df_CS4[5][:len(d1.index)]\n",
    "d7 = df_CS5[5][:len(d1.index)]\n",
    "df3 = pd.DataFrame({'d1':d1, 'd2':d2, 'd3':d3, 'd4':d4, 'd5':d5, 'd6':d6})\n",
    "df3.to_csv('data4.csv')\n",
    "df3.head()"
   ]
  },
  {
   "cell_type": "code",
   "execution_count": 50,
   "metadata": {
    "collapsed": false
   },
   "outputs": [
    {
     "data": {
      "text/html": [
       "<div>\n",
       "<table border=\"1\" class=\"dataframe\">\n",
       "  <thead>\n",
       "    <tr style=\"text-align: right;\">\n",
       "      <th></th>\n",
       "      <th>d1</th>\n",
       "      <th>d2</th>\n",
       "      <th>d3</th>\n",
       "      <th>d4</th>\n",
       "      <th>d5</th>\n",
       "      <th>d6</th>\n",
       "    </tr>\n",
       "  </thead>\n",
       "  <tbody>\n",
       "    <tr>\n",
       "      <th>0</th>\n",
       "      <td>30.521</td>\n",
       "      <td>20.997</td>\n",
       "      <td>23.296</td>\n",
       "      <td>13.5540</td>\n",
       "      <td>23.684</td>\n",
       "      <td>17.520</td>\n",
       "    </tr>\n",
       "    <tr>\n",
       "      <th>1</th>\n",
       "      <td>29.793</td>\n",
       "      <td>22.064</td>\n",
       "      <td>22.486</td>\n",
       "      <td>13.5520</td>\n",
       "      <td>23.430</td>\n",
       "      <td>17.853</td>\n",
       "    </tr>\n",
       "    <tr>\n",
       "      <th>2</th>\n",
       "      <td>30.487</td>\n",
       "      <td>23.513</td>\n",
       "      <td>24.087</td>\n",
       "      <td>12.3880</td>\n",
       "      <td>22.616</td>\n",
       "      <td>20.043</td>\n",
       "    </tr>\n",
       "    <tr>\n",
       "      <th>3</th>\n",
       "      <td>30.586</td>\n",
       "      <td>21.338</td>\n",
       "      <td>22.434</td>\n",
       "      <td>9.3784</td>\n",
       "      <td>22.261</td>\n",
       "      <td>19.030</td>\n",
       "    </tr>\n",
       "    <tr>\n",
       "      <th>4</th>\n",
       "      <td>30.259</td>\n",
       "      <td>25.190</td>\n",
       "      <td>19.393</td>\n",
       "      <td>11.2490</td>\n",
       "      <td>22.058</td>\n",
       "      <td>18.123</td>\n",
       "    </tr>\n",
       "  </tbody>\n",
       "</table>\n",
       "</div>"
      ],
      "text/plain": [
       "       d1      d2      d3       d4      d5      d6\n",
       "0  30.521  20.997  23.296  13.5540  23.684  17.520\n",
       "1  29.793  22.064  22.486  13.5520  23.430  17.853\n",
       "2  30.487  23.513  24.087  12.3880  22.616  20.043\n",
       "3  30.586  21.338  22.434   9.3784  22.261  19.030\n",
       "4  30.259  25.190  19.393  11.2490  22.058  18.123"
      ]
     },
     "execution_count": 50,
     "metadata": {},
     "output_type": "execute_result"
    }
   ],
   "source": [
    "df = pd.read_csv('data.csv')\n",
    "df.drop('Unnamed: 0', axis=1, inplace=True)\n",
    "df.head()"
   ]
  },
  {
   "cell_type": "code",
   "execution_count": 25,
   "metadata": {
    "collapsed": false
   },
   "outputs": [
    {
     "name": "stdout",
     "output_type": "stream",
     "text": [
      "ANNmodel.ipynb     csi3data.csv       data2.csv          run.py\r\n",
      "BU1data.csv        csi4data.csv       data3.csv          test.ipynb\r\n",
      "BU2data.csv        csi5data.csv       data4.csv          untitled.txt\r\n",
      "csi1data.csv       data.csv           dataProcess.ipynb\r\n",
      "csi2data.csv       data1.csv          model.ipynb\r\n"
     ]
    }
   ],
   "source": [
    "ls"
   ]
  },
  {
   "cell_type": "code",
   "execution_count": null,
   "metadata": {
    "collapsed": true
   },
   "outputs": [],
   "source": []
  }
 ],
 "metadata": {
  "kernelspec": {
   "display_name": "Python 3",
   "language": "python",
   "name": "python3"
  },
  "language_info": {
   "codemirror_mode": {
    "name": "ipython",
    "version": 3
   },
   "file_extension": ".py",
   "mimetype": "text/x-python",
   "name": "python",
   "nbconvert_exporter": "python",
   "pygments_lexer": "ipython3",
   "version": "3.6.0"
  }
 },
 "nbformat": 4,
 "nbformat_minor": 2
}
