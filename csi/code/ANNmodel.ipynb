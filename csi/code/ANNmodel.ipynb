{
 "cells": [
  {
   "cell_type": "code",
   "execution_count": 95,
   "metadata": {
    "collapsed": false
   },
   "outputs": [
    {
     "data": {
      "text/html": [
       "<div>\n",
       "<table border=\"1\" class=\"dataframe\">\n",
       "  <thead>\n",
       "    <tr style=\"text-align: right;\">\n",
       "      <th></th>\n",
       "      <th>d1</th>\n",
       "      <th>d2</th>\n",
       "      <th>d3</th>\n",
       "      <th>d4</th>\n",
       "      <th>d5</th>\n",
       "      <th>d6</th>\n",
       "    </tr>\n",
       "  </thead>\n",
       "  <tbody>\n",
       "    <tr>\n",
       "      <th>0</th>\n",
       "      <td>19.325</td>\n",
       "      <td>19.368</td>\n",
       "      <td>24.721</td>\n",
       "      <td>26.166</td>\n",
       "      <td>18.345</td>\n",
       "      <td>19.493</td>\n",
       "    </tr>\n",
       "    <tr>\n",
       "      <th>1</th>\n",
       "      <td>18.151</td>\n",
       "      <td>19.756</td>\n",
       "      <td>23.453</td>\n",
       "      <td>27.011</td>\n",
       "      <td>19.821</td>\n",
       "      <td>20.433</td>\n",
       "    </tr>\n",
       "    <tr>\n",
       "      <th>2</th>\n",
       "      <td>20.347</td>\n",
       "      <td>21.972</td>\n",
       "      <td>23.715</td>\n",
       "      <td>27.616</td>\n",
       "      <td>21.760</td>\n",
       "      <td>21.731</td>\n",
       "    </tr>\n",
       "    <tr>\n",
       "      <th>3</th>\n",
       "      <td>20.071</td>\n",
       "      <td>20.458</td>\n",
       "      <td>21.187</td>\n",
       "      <td>24.308</td>\n",
       "      <td>22.862</td>\n",
       "      <td>20.253</td>\n",
       "    </tr>\n",
       "    <tr>\n",
       "      <th>4</th>\n",
       "      <td>20.452</td>\n",
       "      <td>21.171</td>\n",
       "      <td>22.622</td>\n",
       "      <td>25.662</td>\n",
       "      <td>20.543</td>\n",
       "      <td>20.638</td>\n",
       "    </tr>\n",
       "  </tbody>\n",
       "</table>\n",
       "</div>"
      ],
      "text/plain": [
       "       d1      d2      d3      d4      d5      d6\n",
       "0  19.325  19.368  24.721  26.166  18.345  19.493\n",
       "1  18.151  19.756  23.453  27.011  19.821  20.433\n",
       "2  20.347  21.972  23.715  27.616  21.760  21.731\n",
       "3  20.071  20.458  21.187  24.308  22.862  20.253\n",
       "4  20.452  21.171  22.622  25.662  20.543  20.638"
      ]
     },
     "execution_count": 95,
     "metadata": {},
     "output_type": "execute_result"
    }
   ],
   "source": [
    "import pandas as pd\n",
    "df = pd.read_csv('data3.csv')\n",
    "df.drop('Unnamed: 0', axis=1, inplace=True)\n",
    "df.head()"
   ]
  },
  {
   "cell_type": "code",
   "execution_count": 96,
   "metadata": {
    "collapsed": false
   },
   "outputs": [
    {
     "name": "stdout",
     "output_type": "stream",
     "text": [
      "2219 1094\n",
      "(2219, 6)\n",
      "(2208, 10, 6)\n",
      "(2208, 6)\n"
     ]
    }
   ],
   "source": [
    "import numpy as np\n",
    "dataset = []\n",
    "for i in df.index:\n",
    "    dataset.append(df.loc[i])\n",
    "    \n",
    "dataset = np.array(dataset)\n",
    "dataRNN = dataset\n",
    "train_size = int(len(dataRNN) * 0.67)\n",
    "test_size = len(dataRNN) - train_size\n",
    "print(train_size,test_size)\n",
    "train = dataRNN[0:train_size,:]\n",
    "test = dataRNN[train_size:len(dataRNN),:]\n",
    "def create_dataset(dataset, look_back=1):\n",
    "    dataX, dataY = [], []\n",
    "    for i in range(len(dataset)-look_back-1):\n",
    "        a = dataset[i:(i+look_back), :]\n",
    "        dataX.append(a)\n",
    "        dataY.append(dataset[i + look_back, :])\n",
    "    return np.array(dataX), np.array(dataY)\n",
    "look_back = 10\n",
    "trainX, trainY = create_dataset(train, look_back)\n",
    "testX, testY = create_dataset(test, look_back)\n",
    "print(train.shape)\n",
    "print(trainX.shape)\n",
    "print(trainY.shape)\n",
    "\n",
    "trainX.shape\n",
    "trainX[0]\n",
    "\n",
    "temp = []\n",
    "for i in trainX:\n",
    "    i = np.reshape(i, (1,60))\n",
    "    temp.append(i)\n",
    "# a = np.reshape(trainX[0],(1,60))\n",
    "trainX = np.array(temp)\n",
    "trainY = trainY.reshape(2208,1,6)"
   ]
  },
  {
   "cell_type": "code",
   "execution_count": 97,
   "metadata": {
    "collapsed": false
   },
   "outputs": [
    {
     "name": "stdout",
     "output_type": "stream",
     "text": [
      "_________________________________________________________________\n",
      "Layer (type)                 Output Shape              Param #   \n",
      "=================================================================\n",
      "dense_77 (Dense)             (None, 1, 30)             1830      \n",
      "_________________________________________________________________\n",
      "dense_78 (Dense)             (None, 1, 15)             465       \n",
      "_________________________________________________________________\n",
      "dense_79 (Dense)             (None, 1, 6)              96        \n",
      "=================================================================\n",
      "Total params: 2,391\n",
      "Trainable params: 2,391\n",
      "Non-trainable params: 0\n",
      "_________________________________________________________________\n"
     ]
    }
   ],
   "source": [
    "from keras.models import Sequential \n",
    "from keras.layers import Dense\n",
    "\n",
    "model = Sequential()\n",
    "model.add(Dense(30, activation='tanh', input_shape=(1, 60)))\n",
    "\n",
    "model.add(Dense(15, activation='tanh'))\n",
    "\n",
    "# model.add(Dense(32, activation='tanh'))\n",
    "\n",
    "model.add(Dense(6))\n",
    "\n",
    "model.summary()\n"
   ]
  },
  {
   "cell_type": "code",
   "execution_count": 98,
   "metadata": {
    "collapsed": false
   },
   "outputs": [
    {
     "name": "stdout",
     "output_type": "stream",
     "text": [
      "Epoch 1/10\n",
      "1s - loss: 457.5580\n",
      "Epoch 2/10\n",
      "0s - loss: 316.7814\n",
      "Epoch 3/10\n",
      "0s - loss: 218.0797\n",
      "Epoch 4/10\n",
      "0s - loss: 145.9040\n",
      "Epoch 5/10\n",
      "0s - loss: 94.4483\n",
      "Epoch 6/10\n",
      "0s - loss: 59.0761\n",
      "Epoch 7/10\n",
      "0s - loss: 35.8128\n",
      "Epoch 8/10\n",
      "0s - loss: 21.2964\n",
      "Epoch 9/10\n",
      "0s - loss: 12.7713\n",
      "Epoch 10/10\n",
      "0s - loss: 8.0937\n"
     ]
    },
    {
     "data": {
      "text/plain": [
       "<keras.callbacks.History at 0x128e7f940>"
      ]
     },
     "execution_count": 98,
     "metadata": {},
     "output_type": "execute_result"
    }
   ],
   "source": [
    "model.compile(loss='mean_squared_error', optimizer='adam')\n",
    "model.fit(trainX, trainY, epochs=10, batch_size=10, verbose=2)"
   ]
  },
  {
   "cell_type": "code",
   "execution_count": null,
   "metadata": {
    "collapsed": true
   },
   "outputs": [],
   "source": []
  }
 ],
 "metadata": {
  "kernelspec": {
   "display_name": "Python 3",
   "language": "python",
   "name": "python3"
  },
  "language_info": {
   "codemirror_mode": {
    "name": "ipython",
    "version": 3
   },
   "file_extension": ".py",
   "mimetype": "text/x-python",
   "name": "python",
   "nbconvert_exporter": "python",
   "pygments_lexer": "ipython3",
   "version": "3.6.0"
  }
 },
 "nbformat": 4,
 "nbformat_minor": 2
}
