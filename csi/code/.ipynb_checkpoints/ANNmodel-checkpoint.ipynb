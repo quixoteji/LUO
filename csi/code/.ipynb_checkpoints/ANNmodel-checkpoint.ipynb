{
 "cells": [
  {
   "cell_type": "code",
   "execution_count": 1,
   "metadata": {
    "collapsed": false
   },
   "outputs": [
    {
     "data": {
      "text/html": [
       "<div>\n",
       "<table border=\"1\" class=\"dataframe\">\n",
       "  <thead>\n",
       "    <tr style=\"text-align: right;\">\n",
       "      <th></th>\n",
       "      <th>d1</th>\n",
       "      <th>d2</th>\n",
       "      <th>d3</th>\n",
       "      <th>d4</th>\n",
       "      <th>d5</th>\n",
       "      <th>d6</th>\n",
       "    </tr>\n",
       "  </thead>\n",
       "  <tbody>\n",
       "    <tr>\n",
       "      <th>0</th>\n",
       "      <td>30.521</td>\n",
       "      <td>20.997</td>\n",
       "      <td>23.296</td>\n",
       "      <td>13.5540</td>\n",
       "      <td>23.684</td>\n",
       "      <td>17.520</td>\n",
       "    </tr>\n",
       "    <tr>\n",
       "      <th>1</th>\n",
       "      <td>29.793</td>\n",
       "      <td>22.064</td>\n",
       "      <td>22.486</td>\n",
       "      <td>13.5520</td>\n",
       "      <td>23.430</td>\n",
       "      <td>17.853</td>\n",
       "    </tr>\n",
       "    <tr>\n",
       "      <th>2</th>\n",
       "      <td>30.487</td>\n",
       "      <td>23.513</td>\n",
       "      <td>24.087</td>\n",
       "      <td>12.3880</td>\n",
       "      <td>22.616</td>\n",
       "      <td>20.043</td>\n",
       "    </tr>\n",
       "    <tr>\n",
       "      <th>3</th>\n",
       "      <td>30.586</td>\n",
       "      <td>21.338</td>\n",
       "      <td>22.434</td>\n",
       "      <td>9.3784</td>\n",
       "      <td>22.261</td>\n",
       "      <td>19.030</td>\n",
       "    </tr>\n",
       "    <tr>\n",
       "      <th>4</th>\n",
       "      <td>30.259</td>\n",
       "      <td>25.190</td>\n",
       "      <td>19.393</td>\n",
       "      <td>11.2490</td>\n",
       "      <td>22.058</td>\n",
       "      <td>18.123</td>\n",
       "    </tr>\n",
       "  </tbody>\n",
       "</table>\n",
       "</div>"
      ],
      "text/plain": [
       "       d1      d2      d3       d4      d5      d6\n",
       "0  30.521  20.997  23.296  13.5540  23.684  17.520\n",
       "1  29.793  22.064  22.486  13.5520  23.430  17.853\n",
       "2  30.487  23.513  24.087  12.3880  22.616  20.043\n",
       "3  30.586  21.338  22.434   9.3784  22.261  19.030\n",
       "4  30.259  25.190  19.393  11.2490  22.058  18.123"
      ]
     },
     "execution_count": 1,
     "metadata": {},
     "output_type": "execute_result"
    }
   ],
   "source": [
    "import pandas as pd\n",
    "df = pd.read_csv('data.csv')\n",
    "df.drop('Unnamed: 0', axis=1, inplace=True)\n",
    "df.head()"
   ]
  },
  {
   "cell_type": "code",
   "execution_count": 28,
   "metadata": {
    "collapsed": false
   },
   "outputs": [
    {
     "name": "stdout",
     "output_type": "stream",
     "text": [
      "2219 1094\n",
      "(2219, 6)\n",
      "(2208, 10, 6)\n",
      "(2208, 6)\n"
     ]
    }
   ],
   "source": [
    "import numpy as np\n",
    "dataset = []\n",
    "for i in df.index:\n",
    "    dataset.append(df.loc[i])\n",
    "    \n",
    "dataset = np.array(dataset)\n",
    "dataRNN = dataset\n",
    "train_size = int(len(dataRNN) * 0.67)\n",
    "test_size = len(dataRNN) - train_size\n",
    "print(train_size,test_size)\n",
    "train = dataRNN[0:train_size,:]\n",
    "test = dataRNN[train_size:len(dataRNN),:]\n",
    "def create_dataset(dataset, look_back=1):\n",
    "    dataX, dataY = [], []\n",
    "    for i in range(len(dataset)-look_back-1):\n",
    "        a = dataset[i:(i+look_back), :]\n",
    "        dataX.append(a)\n",
    "        dataY.append(dataset[i + look_back, :])\n",
    "    return np.array(dataX), np.array(dataY)\n",
    "look_back = 10\n",
    "trainX, trainY = create_dataset(train, look_back)\n",
    "testX, testY = create_dataset(test, look_back)\n",
    "print(train.shape)\n",
    "print(trainX.shape)\n",
    "print(trainY.shape)\n",
    "\n",
    "trainX.shape\n",
    "trainX[0]\n",
    "\n",
    "temp = []\n",
    "for i in trainX:\n",
    "    i = np.reshape(i, (1,60))\n",
    "    temp.append(i)\n",
    "# a = np.reshape(trainX[0],(1,60))\n",
    "trainX = np.array(temp)"
   ]
  },
  {
   "cell_type": "code",
   "execution_count": 29,
   "metadata": {
    "collapsed": false
   },
   "outputs": [
    {
     "data": {
      "text/plain": [
       "(2208, 1, 60)"
      ]
     },
     "execution_count": 29,
     "metadata": {},
     "output_type": "execute_result"
    }
   ],
   "source": [
    "trainX.shape"
   ]
  },
  {
   "cell_type": "code",
   "execution_count": 30,
   "metadata": {
    "collapsed": false
   },
   "outputs": [
    {
     "data": {
      "text/plain": [
       "(2208, 6)"
      ]
     },
     "execution_count": 30,
     "metadata": {},
     "output_type": "execute_result"
    }
   ],
   "source": [
    "trainY.shape\n"
   ]
  },
  {
   "cell_type": "code",
   "execution_count": 35,
   "metadata": {
    "collapsed": false
   },
   "outputs": [
    {
     "data": {
      "text/plain": [
       "array([ 30.183,  26.466,  23.357,  10.911,  24.623,  23.404])"
      ]
     },
     "execution_count": 35,
     "metadata": {},
     "output_type": "execute_result"
    }
   ],
   "source": [
    "trainY[0]"
   ]
  },
  {
   "cell_type": "code",
   "execution_count": 41,
   "metadata": {
    "collapsed": false,
    "scrolled": true
   },
   "outputs": [],
   "source": [
    "trainY = trainY.reshape(2208,1,6)"
   ]
  },
  {
   "cell_type": "code",
   "execution_count": 42,
   "metadata": {
    "collapsed": false
   },
   "outputs": [
    {
     "data": {
      "text/plain": [
       "(2208, 1, 6)"
      ]
     },
     "execution_count": 42,
     "metadata": {},
     "output_type": "execute_result"
    }
   ],
   "source": [
    "trainY.shape"
   ]
  },
  {
   "cell_type": "code",
   "execution_count": 54,
   "metadata": {
    "collapsed": false
   },
   "outputs": [
    {
     "name": "stdout",
     "output_type": "stream",
     "text": [
      "_________________________________________________________________\n",
      "Layer (type)                 Output Shape              Param #   \n",
      "=================================================================\n",
      "dense_37 (Dense)             (None, 1, 512)            31232     \n",
      "_________________________________________________________________\n",
      "dense_38 (Dense)             (None, 1, 128)            65664     \n",
      "_________________________________________________________________\n",
      "dense_39 (Dense)             (None, 1, 32)             4128      \n",
      "_________________________________________________________________\n",
      "dense_40 (Dense)             (None, 1, 6)              198       \n",
      "=================================================================\n",
      "Total params: 101,222\n",
      "Trainable params: 101,222\n",
      "Non-trainable params: 0\n",
      "_________________________________________________________________\n"
     ]
    }
   ],
   "source": [
    "from keras.models import Sequential \n",
    "from keras.layers import Dense\n",
    "\n",
    "model = Sequential()\n",
    "model.add(Dense(100, activation='tanh', input_shape=(1, 60)))\n",
    "\n",
    "model.add(Dense(50, activation='tanh'))\n",
    "\n",
    "# model.add(Dense(32, activation='tanh'))\n",
    "\n",
    "model.add(Dense(6))\n",
    "\n",
    "model.summary()\n"
   ]
  },
  {
   "cell_type": "code",
   "execution_count": 56,
   "metadata": {
    "collapsed": false
   },
   "outputs": [
    {
     "name": "stdout",
     "output_type": "stream",
     "text": [
      "Epoch 1/20\n",
      "1s - loss: 4.6528\n",
      "Epoch 2/20\n",
      "0s - loss: 4.6432\n",
      "Epoch 3/20\n",
      "0s - loss: 4.6526\n",
      "Epoch 4/20\n",
      "0s - loss: 4.6508\n",
      "Epoch 5/20\n",
      "0s - loss: 4.6510\n",
      "Epoch 6/20\n",
      "0s - loss: 4.6508\n",
      "Epoch 7/20\n",
      "0s - loss: 4.6438\n",
      "Epoch 8/20\n",
      "0s - loss: 4.6506\n",
      "Epoch 9/20\n",
      "0s - loss: 4.6536\n",
      "Epoch 10/20\n",
      "0s - loss: 4.6544\n",
      "Epoch 11/20\n",
      "0s - loss: 4.6503\n",
      "Epoch 12/20\n",
      "0s - loss: 4.6566\n",
      "Epoch 13/20\n",
      "0s - loss: 4.6508\n",
      "Epoch 14/20\n",
      "0s - loss: 4.6496\n",
      "Epoch 15/20\n",
      "0s - loss: 4.6529\n",
      "Epoch 16/20\n",
      "0s - loss: 4.6545\n",
      "Epoch 17/20\n",
      "0s - loss: 4.6509\n",
      "Epoch 18/20\n",
      "0s - loss: 4.6534\n",
      "Epoch 19/20\n",
      "0s - loss: 4.6511\n",
      "Epoch 20/20\n",
      "0s - loss: 4.6514\n"
     ]
    },
    {
     "data": {
      "text/plain": [
       "<keras.callbacks.History at 0x120aeeda0>"
      ]
     },
     "execution_count": 56,
     "metadata": {},
     "output_type": "execute_result"
    }
   ],
   "source": [
    "model.compile(loss='mean_squared_error', optimizer='adam')\n",
    "model.fit(trainX, trainY, epochs=20, batch_size=10, verbose=2)"
   ]
  },
  {
   "cell_type": "code",
   "execution_count": null,
   "metadata": {
    "collapsed": true
   },
   "outputs": [],
   "source": []
  }
 ],
 "metadata": {
  "kernelspec": {
   "display_name": "Python 3",
   "language": "python",
   "name": "python3"
  },
  "language_info": {
   "codemirror_mode": {
    "name": "ipython",
    "version": 3
   },
   "file_extension": ".py",
   "mimetype": "text/x-python",
   "name": "python",
   "nbconvert_exporter": "python",
   "pygments_lexer": "ipython3",
   "version": "3.6.0"
  }
 },
 "nbformat": 4,
 "nbformat_minor": 2
}
