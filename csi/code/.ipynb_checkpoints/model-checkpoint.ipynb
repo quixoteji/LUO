{
 "cells": [
  {
   "cell_type": "code",
   "execution_count": 1,
   "metadata": {
    "collapsed": false
   },
   "outputs": [
    {
     "name": "stderr",
     "output_type": "stream",
     "text": [
      "Using TensorFlow backend.\n"
     ]
    }
   ],
   "source": [
    "import pandas as pd\n",
    "import keras"
   ]
  },
  {
   "cell_type": "code",
   "execution_count": 2,
   "metadata": {
    "collapsed": false
   },
   "outputs": [
    {
     "data": {
      "text/html": [
       "<div>\n",
       "<table border=\"1\" class=\"dataframe\">\n",
       "  <thead>\n",
       "    <tr style=\"text-align: right;\">\n",
       "      <th></th>\n",
       "      <th>d1</th>\n",
       "      <th>d2</th>\n",
       "      <th>d3</th>\n",
       "      <th>d4</th>\n",
       "      <th>d5</th>\n",
       "      <th>d6</th>\n",
       "    </tr>\n",
       "  </thead>\n",
       "  <tbody>\n",
       "    <tr>\n",
       "      <th>0</th>\n",
       "      <td>30.521</td>\n",
       "      <td>20.997</td>\n",
       "      <td>23.296</td>\n",
       "      <td>13.5540</td>\n",
       "      <td>23.684</td>\n",
       "      <td>17.520</td>\n",
       "    </tr>\n",
       "    <tr>\n",
       "      <th>1</th>\n",
       "      <td>29.793</td>\n",
       "      <td>22.064</td>\n",
       "      <td>22.486</td>\n",
       "      <td>13.5520</td>\n",
       "      <td>23.430</td>\n",
       "      <td>17.853</td>\n",
       "    </tr>\n",
       "    <tr>\n",
       "      <th>2</th>\n",
       "      <td>30.487</td>\n",
       "      <td>23.513</td>\n",
       "      <td>24.087</td>\n",
       "      <td>12.3880</td>\n",
       "      <td>22.616</td>\n",
       "      <td>20.043</td>\n",
       "    </tr>\n",
       "    <tr>\n",
       "      <th>3</th>\n",
       "      <td>30.586</td>\n",
       "      <td>21.338</td>\n",
       "      <td>22.434</td>\n",
       "      <td>9.3784</td>\n",
       "      <td>22.261</td>\n",
       "      <td>19.030</td>\n",
       "    </tr>\n",
       "    <tr>\n",
       "      <th>4</th>\n",
       "      <td>30.259</td>\n",
       "      <td>25.190</td>\n",
       "      <td>19.393</td>\n",
       "      <td>11.2490</td>\n",
       "      <td>22.058</td>\n",
       "      <td>18.123</td>\n",
       "    </tr>\n",
       "  </tbody>\n",
       "</table>\n",
       "</div>"
      ],
      "text/plain": [
       "       d1      d2      d3       d4      d5      d6\n",
       "0  30.521  20.997  23.296  13.5540  23.684  17.520\n",
       "1  29.793  22.064  22.486  13.5520  23.430  17.853\n",
       "2  30.487  23.513  24.087  12.3880  22.616  20.043\n",
       "3  30.586  21.338  22.434   9.3784  22.261  19.030\n",
       "4  30.259  25.190  19.393  11.2490  22.058  18.123"
      ]
     },
     "execution_count": 2,
     "metadata": {},
     "output_type": "execute_result"
    }
   ],
   "source": [
    "df = pd.read_csv('data.csv')\n",
    "df.drop('Unnamed: 0', axis=1, inplace=True)\n",
    "df.head()"
   ]
  },
  {
   "cell_type": "code",
   "execution_count": 3,
   "metadata": {
    "collapsed": false
   },
   "outputs": [],
   "source": [
    "from keras.models import Sequential \n",
    "from keras.layers import Dense\n",
    "from keras.layers import LSTM\n"
   ]
  },
  {
   "cell_type": "markdown",
   "metadata": {},
   "source": [
    "## Build dataset\n",
    "### dataRNN is 1*6\n",
    "### dataCNN is 2*3"
   ]
  },
  {
   "cell_type": "code",
   "execution_count": 4,
   "metadata": {
    "collapsed": false
   },
   "outputs": [],
   "source": [
    "import numpy as np\n",
    "dataset = []\n",
    "for i in df.index:\n",
    "    dataset.append(df.loc[i])\n",
    "    \n",
    "dataset = np.array(dataset)"
   ]
  },
  {
   "cell_type": "code",
   "execution_count": 5,
   "metadata": {
    "collapsed": false
   },
   "outputs": [
    {
     "data": {
      "text/plain": [
       "array([[ 30.521,  20.997,  23.296,  13.554,  23.684,  17.52 ],\n",
       "       [ 29.793,  22.064,  22.486,  13.552,  23.43 ,  17.853],\n",
       "       [ 30.487,  23.513,  24.087,  12.388,  22.616,  20.043]])"
      ]
     },
     "execution_count": 5,
     "metadata": {},
     "output_type": "execute_result"
    }
   ],
   "source": [
    "dataRNN = dataset\n",
    "dataRNN[0:3]"
   ]
  },
  {
   "cell_type": "code",
   "execution_count": 6,
   "metadata": {
    "collapsed": false
   },
   "outputs": [],
   "source": [
    "dataCNN = []\n",
    "for i in dataRNN:\n",
    "    dataCNN.append(np.reshape(i, (2,3)))\n",
    "dataCNN = np.array(dataCNN)"
   ]
  },
  {
   "cell_type": "code",
   "execution_count": 7,
   "metadata": {
    "collapsed": false
   },
   "outputs": [
    {
     "data": {
      "text/plain": [
       "array([[[ 30.521,  20.997,  23.296],\n",
       "        [ 13.554,  23.684,  17.52 ]],\n",
       "\n",
       "       [[ 29.793,  22.064,  22.486],\n",
       "        [ 13.552,  23.43 ,  17.853]],\n",
       "\n",
       "       [[ 30.487,  23.513,  24.087],\n",
       "        [ 12.388,  22.616,  20.043]]])"
      ]
     },
     "execution_count": 7,
     "metadata": {},
     "output_type": "execute_result"
    }
   ],
   "source": [
    "dataCNN[0:3]"
   ]
  },
  {
   "cell_type": "markdown",
   "metadata": {},
   "source": [
    "## RNN model"
   ]
  },
  {
   "cell_type": "markdown",
   "metadata": {},
   "source": [
    "### Split into train and test set"
   ]
  },
  {
   "cell_type": "code",
   "execution_count": 8,
   "metadata": {
    "collapsed": false
   },
   "outputs": [
    {
     "name": "stdout",
     "output_type": "stream",
     "text": [
      "2219 1094\n"
     ]
    }
   ],
   "source": [
    "train_size = int(len(dataRNN) * 0.67)\n",
    "test_size = len(dataRNN) - train_size\n",
    "print(train_size,test_size)\n",
    "train = dataRNN[0:train_size,:]\n",
    "test = dataRNN[train_size:len(dataRNN),:]"
   ]
  },
  {
   "cell_type": "markdown",
   "metadata": {},
   "source": [
    "### convert an array of values into a data matrix"
   ]
  },
  {
   "cell_type": "code",
   "execution_count": 10,
   "metadata": {
    "collapsed": true
   },
   "outputs": [],
   "source": [
    "def create_dataset(dataset, look_back=1):\n",
    "    dataX, dataY = [], []\n",
    "    for i in range(len(dataset)-look_back-1):\n",
    "        a = dataset[i:(i+look_back), :]\n",
    "        dataX.append(a)\n",
    "        dataY.append(dataset[i + look_back, :])\n",
    "    return np.array(dataX), np.array(dataY)"
   ]
  },
  {
   "cell_type": "code",
   "execution_count": 11,
   "metadata": {
    "collapsed": false
   },
   "outputs": [],
   "source": [
    "look_back = 10\n",
    "trainX, trainY = create_dataset(train, look_back)\n",
    "testX, testY = create_dataset(test, look_back)"
   ]
  },
  {
   "cell_type": "code",
   "execution_count": 12,
   "metadata": {
    "collapsed": false
   },
   "outputs": [
    {
     "name": "stdout",
     "output_type": "stream",
     "text": [
      "(2219, 6)\n",
      "(2208, 10, 6)\n",
      "(2208, 6)\n"
     ]
    }
   ],
   "source": [
    "print(train.shape)\n",
    "print(trainX.shape)\n",
    "print(trainY.shape)"
   ]
  },
  {
   "cell_type": "markdown",
   "metadata": {},
   "source": [
    "### Reshape input to be [samples, time steps, features]"
   ]
  },
  {
   "cell_type": "code",
   "execution_count": 13,
   "metadata": {
    "collapsed": false
   },
   "outputs": [
    {
     "name": "stdout",
     "output_type": "stream",
     "text": [
      "(10, 6)\n",
      "(6,)\n"
     ]
    }
   ],
   "source": [
    "print(trainX[0].shape)\n",
    "print(trainY[0].shape)\n",
    "# trainX = np.reshape(trainX, (trainX.shape[0], 1, trainX.shape[1]))\n",
    "# testX = np.reshape(testX, (testX.shape[0], 1, testX.shape[1]))"
   ]
  },
  {
   "cell_type": "code",
   "execution_count": null,
   "metadata": {
    "collapsed": false
   },
   "outputs": [],
   "source": [
    "model = Sequential()\n",
    "model.add(LSTM(128, input_shape=(10, 6)))\n",
    "model.add(Dense(6))\n",
    "\n"
   ]
  },
  {
   "cell_type": "code",
   "execution_count": null,
   "metadata": {
    "collapsed": true
   },
   "outputs": [],
   "source": [
    "model.compile(loss='mean_squared_error', optimizer='adam')\n",
    "model.fit(trainX, trainY, epochs=10, batch_size=1, verbose=2)\n",
    "\n",
    "# make predictions\n",
    "score = model."
   ]
  }
 ],
 "metadata": {
  "kernelspec": {
   "display_name": "Python 3",
   "language": "python",
   "name": "python3"
  },
  "language_info": {
   "codemirror_mode": {
    "name": "ipython",
    "version": 3
   },
   "file_extension": ".py",
   "mimetype": "text/x-python",
   "name": "python",
   "nbconvert_exporter": "python",
   "pygments_lexer": "ipython3",
   "version": "3.6.0"
  }
 },
 "nbformat": 4,
 "nbformat_minor": 2
}
