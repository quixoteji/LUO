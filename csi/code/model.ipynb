{
 "cells": [
  {
   "cell_type": "code",
   "execution_count": 1,
   "metadata": {
    "collapsed": false
   },
   "outputs": [
    {
     "name": "stderr",
     "output_type": "stream",
     "text": [
      "Using TensorFlow backend.\n"
     ]
    }
   ],
   "source": [
    "import pandas as pd\n",
    "import keras"
   ]
  },
  {
   "cell_type": "code",
   "execution_count": 34,
   "metadata": {
    "collapsed": false
   },
   "outputs": [
    {
     "data": {
      "text/html": [
       "<div>\n",
       "<table border=\"1\" class=\"dataframe\">\n",
       "  <thead>\n",
       "    <tr style=\"text-align: right;\">\n",
       "      <th></th>\n",
       "      <th>d1</th>\n",
       "      <th>d2</th>\n",
       "      <th>d3</th>\n",
       "      <th>d4</th>\n",
       "      <th>d5</th>\n",
       "      <th>d6</th>\n",
       "    </tr>\n",
       "  </thead>\n",
       "  <tbody>\n",
       "    <tr>\n",
       "      <th>count</th>\n",
       "      <td>3313.000000</td>\n",
       "      <td>3313.000000</td>\n",
       "      <td>3313.000000</td>\n",
       "      <td>3313.000000</td>\n",
       "      <td>3313.000000</td>\n",
       "      <td>3313.000000</td>\n",
       "    </tr>\n",
       "    <tr>\n",
       "      <th>mean</th>\n",
       "      <td>27.516883</td>\n",
       "      <td>21.197193</td>\n",
       "      <td>21.383774</td>\n",
       "      <td>-inf</td>\n",
       "      <td>15.252616</td>\n",
       "      <td>26.051990</td>\n",
       "    </tr>\n",
       "    <tr>\n",
       "      <th>std</th>\n",
       "      <td>2.464038</td>\n",
       "      <td>2.917632</td>\n",
       "      <td>1.437963</td>\n",
       "      <td>NaN</td>\n",
       "      <td>2.838004</td>\n",
       "      <td>0.954564</td>\n",
       "    </tr>\n",
       "    <tr>\n",
       "      <th>min</th>\n",
       "      <td>-4.945500</td>\n",
       "      <td>5.547100</td>\n",
       "      <td>7.527200</td>\n",
       "      <td>-inf</td>\n",
       "      <td>2.218000</td>\n",
       "      <td>12.863000</td>\n",
       "    </tr>\n",
       "    <tr>\n",
       "      <th>25%</th>\n",
       "      <td>27.489000</td>\n",
       "      <td>19.963000</td>\n",
       "      <td>20.619000</td>\n",
       "      <td>9.852700</td>\n",
       "      <td>13.290000</td>\n",
       "      <td>25.594000</td>\n",
       "    </tr>\n",
       "    <tr>\n",
       "      <th>50%</th>\n",
       "      <td>28.026000</td>\n",
       "      <td>21.823000</td>\n",
       "      <td>21.512000</td>\n",
       "      <td>11.761000</td>\n",
       "      <td>15.140000</td>\n",
       "      <td>26.067000</td>\n",
       "    </tr>\n",
       "    <tr>\n",
       "      <th>75%</th>\n",
       "      <td>28.506000</td>\n",
       "      <td>23.087000</td>\n",
       "      <td>22.338000</td>\n",
       "      <td>13.080000</td>\n",
       "      <td>17.269000</td>\n",
       "      <td>26.563000</td>\n",
       "    </tr>\n",
       "    <tr>\n",
       "      <th>max</th>\n",
       "      <td>31.817000</td>\n",
       "      <td>27.959000</td>\n",
       "      <td>25.594000</td>\n",
       "      <td>21.161000</td>\n",
       "      <td>27.682000</td>\n",
       "      <td>28.920000</td>\n",
       "    </tr>\n",
       "  </tbody>\n",
       "</table>\n",
       "</div>"
      ],
      "text/plain": [
       "                d1           d2           d3           d4           d5  \\\n",
       "count  3313.000000  3313.000000  3313.000000  3313.000000  3313.000000   \n",
       "mean     27.516883    21.197193    21.383774         -inf    15.252616   \n",
       "std       2.464038     2.917632     1.437963          NaN     2.838004   \n",
       "min      -4.945500     5.547100     7.527200         -inf     2.218000   \n",
       "25%      27.489000    19.963000    20.619000     9.852700    13.290000   \n",
       "50%      28.026000    21.823000    21.512000    11.761000    15.140000   \n",
       "75%      28.506000    23.087000    22.338000    13.080000    17.269000   \n",
       "max      31.817000    27.959000    25.594000    21.161000    27.682000   \n",
       "\n",
       "                d6  \n",
       "count  3313.000000  \n",
       "mean     26.051990  \n",
       "std       0.954564  \n",
       "min      12.863000  \n",
       "25%      25.594000  \n",
       "50%      26.067000  \n",
       "75%      26.563000  \n",
       "max      28.920000  "
      ]
     },
     "execution_count": 34,
     "metadata": {},
     "output_type": "execute_result"
    }
   ],
   "source": [
    "df = pd.read_csv('data.csv')\n",
    "df.drop('Unnamed: 0', axis=1, inplace=True)\n",
    "df.describe()"
   ]
  },
  {
   "cell_type": "code",
   "execution_count": 3,
   "metadata": {
    "collapsed": false
   },
   "outputs": [],
   "source": [
    "from keras.models import Sequential \n",
    "from keras.layers import Dense\n",
    "from keras.layers import LSTM\n"
   ]
  },
  {
   "cell_type": "markdown",
   "metadata": {},
   "source": [
    "## Build dataset\n",
    "### dataRNN is 1*6\n",
    "### dataCNN is 2*3"
   ]
  },
  {
   "cell_type": "code",
   "execution_count": 4,
   "metadata": {
    "collapsed": false
   },
   "outputs": [],
   "source": [
    "import numpy as np\n",
    "dataset = []\n",
    "for i in df.index:\n",
    "    dataset.append(df.loc[i])\n",
    "    \n",
    "dataset = np.array(dataset)"
   ]
  },
  {
   "cell_type": "code",
   "execution_count": 5,
   "metadata": {
    "collapsed": false
   },
   "outputs": [
    {
     "data": {
      "text/plain": [
       "array([[ 30.521,  20.997,  23.296,  13.554,  23.684,  17.52 ],\n",
       "       [ 29.793,  22.064,  22.486,  13.552,  23.43 ,  17.853],\n",
       "       [ 30.487,  23.513,  24.087,  12.388,  22.616,  20.043]])"
      ]
     },
     "execution_count": 5,
     "metadata": {},
     "output_type": "execute_result"
    }
   ],
   "source": [
    "dataRNN = dataset\n",
    "dataRNN[0:3]"
   ]
  },
  {
   "cell_type": "code",
   "execution_count": 6,
   "metadata": {
    "collapsed": false
   },
   "outputs": [],
   "source": [
    "dataCNN = []\n",
    "for i in dataRNN:\n",
    "    dataCNN.append(np.reshape(i, (2,3)))\n",
    "dataCNN = np.array(dataCNN)"
   ]
  },
  {
   "cell_type": "code",
   "execution_count": 7,
   "metadata": {
    "collapsed": false
   },
   "outputs": [
    {
     "data": {
      "text/plain": [
       "array([[[ 30.521,  20.997,  23.296],\n",
       "        [ 13.554,  23.684,  17.52 ]],\n",
       "\n",
       "       [[ 29.793,  22.064,  22.486],\n",
       "        [ 13.552,  23.43 ,  17.853]],\n",
       "\n",
       "       [[ 30.487,  23.513,  24.087],\n",
       "        [ 12.388,  22.616,  20.043]]])"
      ]
     },
     "execution_count": 7,
     "metadata": {},
     "output_type": "execute_result"
    }
   ],
   "source": [
    "dataCNN[0:3]"
   ]
  },
  {
   "cell_type": "markdown",
   "metadata": {},
   "source": [
    "## RNN model"
   ]
  },
  {
   "cell_type": "markdown",
   "metadata": {},
   "source": [
    "### Split into train and test set"
   ]
  },
  {
   "cell_type": "code",
   "execution_count": 8,
   "metadata": {
    "collapsed": false
   },
   "outputs": [
    {
     "name": "stdout",
     "output_type": "stream",
     "text": [
      "2219 1094\n"
     ]
    }
   ],
   "source": [
    "train_size = int(len(dataRNN) * 0.67)\n",
    "test_size = len(dataRNN) - train_size\n",
    "print(train_size,test_size)\n",
    "train = dataRNN[0:train_size,:]\n",
    "test = dataRNN[train_size:len(dataRNN),:]"
   ]
  },
  {
   "cell_type": "markdown",
   "metadata": {},
   "source": [
    "### convert an array of values into a data matrix"
   ]
  },
  {
   "cell_type": "code",
   "execution_count": 10,
   "metadata": {
    "collapsed": true
   },
   "outputs": [],
   "source": [
    "def create_dataset(dataset, look_back=1):\n",
    "    dataX, dataY = [], []\n",
    "    for i in range(len(dataset)-look_back-1):\n",
    "        a = dataset[i:(i+look_back), :]\n",
    "        dataX.append(a)\n",
    "        dataY.append(dataset[i + look_back, :])\n",
    "    return np.array(dataX), np.array(dataY)"
   ]
  },
  {
   "cell_type": "code",
   "execution_count": 11,
   "metadata": {
    "collapsed": false
   },
   "outputs": [],
   "source": [
    "look_back = 10\n",
    "trainX, trainY = create_dataset(train, look_back)\n",
    "testX, testY = create_dataset(test, look_back)"
   ]
  },
  {
   "cell_type": "code",
   "execution_count": 12,
   "metadata": {
    "collapsed": false
   },
   "outputs": [
    {
     "name": "stdout",
     "output_type": "stream",
     "text": [
      "(2219, 6)\n",
      "(2208, 10, 6)\n",
      "(2208, 6)\n"
     ]
    }
   ],
   "source": [
    "print(train.shape)\n",
    "print(trainX.shape)\n",
    "print(trainY.shape)"
   ]
  },
  {
   "cell_type": "markdown",
   "metadata": {},
   "source": [
    "### Reshape input to be [samples, time steps, features]"
   ]
  },
  {
   "cell_type": "code",
   "execution_count": 13,
   "metadata": {
    "collapsed": false
   },
   "outputs": [
    {
     "name": "stdout",
     "output_type": "stream",
     "text": [
      "(10, 6)\n",
      "(6,)\n"
     ]
    }
   ],
   "source": [
    "print(trainX[0].shape)\n",
    "print(trainY[0].shape)\n",
    "# trainX = np.reshape(trainX, (trainX.shape[0], 1, trainX.shape[1]))\n",
    "# testX = np.reshape(testX, (testX.shape[0], 1, testX.shape[1]))"
   ]
  },
  {
   "cell_type": "code",
   "execution_count": 16,
   "metadata": {
    "collapsed": false
   },
   "outputs": [
    {
     "name": "stdout",
     "output_type": "stream",
     "text": [
      "_________________________________________________________________\n",
      "Layer (type)                 Output Shape              Param #   \n",
      "=================================================================\n",
      "lstm_3 (LSTM)                (None, 24)                2976      \n",
      "_________________________________________________________________\n",
      "dense_3 (Dense)              (None, 6)                 150       \n",
      "=================================================================\n",
      "Total params: 3,126\n",
      "Trainable params: 3,126\n",
      "Non-trainable params: 0\n",
      "_________________________________________________________________\n"
     ]
    }
   ],
   "source": [
    "model = Sequential()\n",
    "model.add(LSTM(24, input_shape=(10, 6)))\n",
    "model.add(Dense(6))\n",
    "model.summary()\n"
   ]
  },
  {
   "cell_type": "code",
   "execution_count": 19,
   "metadata": {
    "collapsed": false
   },
   "outputs": [
    {
     "name": "stdout",
     "output_type": "stream",
     "text": [
      "Epoch 1/10\n",
      "65s - loss: 103.1503\n",
      "Epoch 2/10\n",
      "59s - loss: 6.5164\n",
      "Epoch 3/10\n",
      "58s - loss: 4.6297\n",
      "Epoch 4/10\n",
      "59s - loss: 4.6101\n",
      "Epoch 5/10\n",
      "60s - loss: 4.5191\n",
      "Epoch 6/10\n",
      "60s - loss: 4.4464\n",
      "Epoch 7/10\n",
      "59s - loss: 4.3407\n",
      "Epoch 8/10\n",
      "64s - loss: 4.2112\n",
      "Epoch 9/10\n",
      "59s - loss: 4.1041\n",
      "Epoch 10/10\n",
      "59s - loss: 4.0061\n",
      " 992/1083 [==========================>...] - ETA: 0s\b\b\b\b\b\b\b\b\b\b\b\b\b\b\b\b\b\b\b\b\b\b\b\b\b\b\b\b\b\b\b\b\b\b\b\b\b\b\b\b\b\b\b\b\b\b\b\b\b\b\b\b\b\b\b\b\b\b\b\b\b\b\b\b\b\b\b\b\b\b\b\b\b\b\b\b\b\b\b\b\b\b\b\b\b\b\b\b\b\b\b\b\b\b\b\b\b\b\b\b\b\b\b\b\b\b\b\b\b\b\b\b\b\b\b\b\b\b\b\b\b\b\b\b\b\b\b\b\b\b\b\b\b\b\b\b\b\b\b\b\b\b\b\b\b\b\b\b\b\b\b\b\b\b\b\b\b\b\b\b\b\b\b\b\b\b\b\b\b\b\b\b\b\b\b\b\b\b\b\b\b\b\b\b\b\b\b\b\b\b\b\b\b\b\b\b\b\b\b\b\b\b\b\b\b\b\b\b"
     ]
    }
   ],
   "source": [
    "model.compile(loss='mean_squared_error', optimizer='adam')\n",
    "model.fit(trainX, trainY, epochs=10, batch_size=1, verbose=2)\n",
    "score = model.evaluate(testX, testY)"
   ]
  },
  {
   "cell_type": "code",
   "execution_count": 21,
   "metadata": {
    "collapsed": false
   },
   "outputs": [
    {
     "data": {
      "text/plain": [
       "array([[ 28.301 ,  22.335 ,  21.419 ,  -4.7714,  19.563 ,  26.965 ],\n",
       "       [ 28.599 ,  22.647 ,  20.071 ,   1.2492,  20.452 ,  27.734 ],\n",
       "       [ 27.684 ,  21.878 ,  20.898 ,   5.2285,  20.525 ,  26.386 ],\n",
       "       [ 27.876 ,  22.374 ,  20.452 ,   5.2279,  19.378 ,  26.763 ],\n",
       "       [ 28.08  ,  22.104 ,  20.452 ,   7.4583,  19.207 ,  27.648 ],\n",
       "       [ 27.621 ,  22.077 ,  20.085 ,   7.7814,  18.345 ,  26.629 ],\n",
       "       [ 27.292 ,  22.697 ,  21.672 ,   8.2389,  17.609 ,  26.41  ],\n",
       "       [ 27.575 ,  21.332 ,  19.461 ,   9.3784,  16.368 ,  26.141 ],\n",
       "       [ 27.812 ,  21.22  ,  20.543 ,   9.3777,  16.355 ,  26.317 ],\n",
       "       [ 27.489 ,  21.299 ,  21.355 ,   9.8526,  20.449 ,  27.075 ]])"
      ]
     },
     "execution_count": 21,
     "metadata": {},
     "output_type": "execute_result"
    }
   ],
   "source": [
    "data = testX[100]\n",
    "data"
   ]
  },
  {
   "cell_type": "code",
   "execution_count": 23,
   "metadata": {
    "collapsed": false
   },
   "outputs": [
    {
     "data": {
      "text/plain": [
       "array([[[ 28.301 ,  22.335 ,  21.419 ,  -4.7714,  19.563 ,  26.965 ],\n",
       "        [ 28.599 ,  22.647 ,  20.071 ,   1.2492,  20.452 ,  27.734 ],\n",
       "        [ 27.684 ,  21.878 ,  20.898 ,   5.2285,  20.525 ,  26.386 ],\n",
       "        [ 27.876 ,  22.374 ,  20.452 ,   5.2279,  19.378 ,  26.763 ],\n",
       "        [ 28.08  ,  22.104 ,  20.452 ,   7.4583,  19.207 ,  27.648 ],\n",
       "        [ 27.621 ,  22.077 ,  20.085 ,   7.7814,  18.345 ,  26.629 ],\n",
       "        [ 27.292 ,  22.697 ,  21.672 ,   8.2389,  17.609 ,  26.41  ],\n",
       "        [ 27.575 ,  21.332 ,  19.461 ,   9.3784,  16.368 ,  26.141 ],\n",
       "        [ 27.812 ,  21.22  ,  20.543 ,   9.3777,  16.355 ,  26.317 ],\n",
       "        [ 27.489 ,  21.299 ,  21.355 ,   9.8526,  20.449 ,  27.075 ]]])"
      ]
     },
     "execution_count": 23,
     "metadata": {},
     "output_type": "execute_result"
    }
   ],
   "source": [
    "data = np.reshape(data, (1,10,6))\n",
    "data"
   ]
  },
  {
   "cell_type": "code",
   "execution_count": 24,
   "metadata": {
    "collapsed": true
   },
   "outputs": [],
   "source": [
    "pre = model.predict(data)"
   ]
  },
  {
   "cell_type": "code",
   "execution_count": 25,
   "metadata": {
    "collapsed": false
   },
   "outputs": [
    {
     "data": {
      "text/plain": [
       "array([[ 25.75363159,  20.51769447,  21.10876083,  10.53987217,\n",
       "         14.42281723,  25.43008995]], dtype=float32)"
      ]
     },
     "execution_count": 25,
     "metadata": {},
     "output_type": "execute_result"
    }
   ],
   "source": [
    "pre"
   ]
  },
  {
   "cell_type": "code",
   "execution_count": 26,
   "metadata": {
    "collapsed": false
   },
   "outputs": [
    {
     "data": {
      "text/plain": [
       "array([ 29.643 ,  21.656 ,  20.91  ,   7.5331,  13.357 ,  25.908 ])"
      ]
     },
     "execution_count": 26,
     "metadata": {},
     "output_type": "execute_result"
    }
   ],
   "source": [
    "testY[100]"
   ]
  },
  {
   "cell_type": "markdown",
   "metadata": {},
   "source": [
    "### data1"
   ]
  },
  {
   "cell_type": "code",
   "execution_count": 30,
   "metadata": {
    "collapsed": false
   },
   "outputs": [
    {
     "data": {
      "text/html": [
       "<div>\n",
       "<table border=\"1\" class=\"dataframe\">\n",
       "  <thead>\n",
       "    <tr style=\"text-align: right;\">\n",
       "      <th></th>\n",
       "      <th>d1</th>\n",
       "      <th>d2</th>\n",
       "      <th>d3</th>\n",
       "      <th>d4</th>\n",
       "      <th>d5</th>\n",
       "      <th>d6</th>\n",
       "    </tr>\n",
       "  </thead>\n",
       "  <tbody>\n",
       "    <tr>\n",
       "      <th>count</th>\n",
       "      <td>3313.000000</td>\n",
       "      <td>3313.000000</td>\n",
       "      <td>3313.000000</td>\n",
       "      <td>3313.000000</td>\n",
       "      <td>3313.000000</td>\n",
       "      <td>3313.000000</td>\n",
       "    </tr>\n",
       "    <tr>\n",
       "      <th>mean</th>\n",
       "      <td>27.011211</td>\n",
       "      <td>24.296531</td>\n",
       "      <td>22.851550</td>\n",
       "      <td>27.929205</td>\n",
       "      <td>28.015615</td>\n",
       "      <td>19.454348</td>\n",
       "    </tr>\n",
       "    <tr>\n",
       "      <th>std</th>\n",
       "      <td>1.613423</td>\n",
       "      <td>2.583492</td>\n",
       "      <td>1.363558</td>\n",
       "      <td>0.559885</td>\n",
       "      <td>1.018381</td>\n",
       "      <td>1.891391</td>\n",
       "    </tr>\n",
       "    <tr>\n",
       "      <th>min</th>\n",
       "      <td>7.239700</td>\n",
       "      <td>9.289700</td>\n",
       "      <td>13.861000</td>\n",
       "      <td>22.840000</td>\n",
       "      <td>14.366000</td>\n",
       "      <td>8.238600</td>\n",
       "    </tr>\n",
       "    <tr>\n",
       "      <th>25%</th>\n",
       "      <td>26.687000</td>\n",
       "      <td>23.500000</td>\n",
       "      <td>22.059000</td>\n",
       "      <td>27.586000</td>\n",
       "      <td>27.486000</td>\n",
       "      <td>18.408000</td>\n",
       "    </tr>\n",
       "    <tr>\n",
       "      <th>50%</th>\n",
       "      <td>27.217000</td>\n",
       "      <td>25.273000</td>\n",
       "      <td>22.907000</td>\n",
       "      <td>27.914000</td>\n",
       "      <td>28.133000</td>\n",
       "      <td>19.606000</td>\n",
       "    </tr>\n",
       "    <tr>\n",
       "      <th>75%</th>\n",
       "      <td>27.674000</td>\n",
       "      <td>25.995000</td>\n",
       "      <td>23.719000</td>\n",
       "      <td>28.291000</td>\n",
       "      <td>28.672000</td>\n",
       "      <td>20.705000</td>\n",
       "    </tr>\n",
       "    <tr>\n",
       "      <th>max</th>\n",
       "      <td>32.641000</td>\n",
       "      <td>28.196000</td>\n",
       "      <td>27.483000</td>\n",
       "      <td>30.975000</td>\n",
       "      <td>31.435000</td>\n",
       "      <td>27.735000</td>\n",
       "    </tr>\n",
       "  </tbody>\n",
       "</table>\n",
       "</div>"
      ],
      "text/plain": [
       "                d1           d2           d3           d4           d5  \\\n",
       "count  3313.000000  3313.000000  3313.000000  3313.000000  3313.000000   \n",
       "mean     27.011211    24.296531    22.851550    27.929205    28.015615   \n",
       "std       1.613423     2.583492     1.363558     0.559885     1.018381   \n",
       "min       7.239700     9.289700    13.861000    22.840000    14.366000   \n",
       "25%      26.687000    23.500000    22.059000    27.586000    27.486000   \n",
       "50%      27.217000    25.273000    22.907000    27.914000    28.133000   \n",
       "75%      27.674000    25.995000    23.719000    28.291000    28.672000   \n",
       "max      32.641000    28.196000    27.483000    30.975000    31.435000   \n",
       "\n",
       "                d6  \n",
       "count  3313.000000  \n",
       "mean     19.454348  \n",
       "std       1.891391  \n",
       "min       8.238600  \n",
       "25%      18.408000  \n",
       "50%      19.606000  \n",
       "75%      20.705000  \n",
       "max      27.735000  "
      ]
     },
     "execution_count": 30,
     "metadata": {},
     "output_type": "execute_result"
    }
   ],
   "source": [
    "df = pd.read_csv('data1.csv')\n",
    "df.drop('Unnamed: 0', axis=1, inplace=True)\n",
    "df.head()\n",
    "df.describe()"
   ]
  },
  {
   "cell_type": "code",
   "execution_count": 28,
   "metadata": {
    "collapsed": false
   },
   "outputs": [
    {
     "name": "stdout",
     "output_type": "stream",
     "text": [
      "2219 1094\n"
     ]
    }
   ],
   "source": [
    "import numpy as np\n",
    "dataRNN1 = []\n",
    "for i in df.index:\n",
    "    dataRNN1.append(df.loc[i])\n",
    "    \n",
    "dataRNN = np.array(dataRNN)\n",
    "train_size = int(len(dataRNN) * 0.67)\n",
    "test_size = len(dataRNN) - train_size\n",
    "print(train_size,test_size)\n",
    "train = dataRNN[0:train_size,:]\n",
    "test = dataRNN[train_size:len(dataRNN),:]\n",
    "look_back = 10\n",
    "trainX, trainY = create_dataset(train, look_back)\n",
    "testX, testY = create_dataset(test, look_back)"
   ]
  },
  {
   "cell_type": "code",
   "execution_count": 29,
   "metadata": {
    "collapsed": false
   },
   "outputs": [
    {
     "name": "stdout",
     "output_type": "stream",
     "text": [
      "Epoch 1/10\n",
      "65s - loss: 151.6627\n",
      "Epoch 2/10\n",
      "63s - loss: 6.1711\n",
      "Epoch 3/10\n",
      "64s - loss: 4.6019\n",
      "Epoch 4/10\n",
      "63s - loss: 4.5017\n",
      "Epoch 5/10\n",
      "68s - loss: 4.4430\n",
      "Epoch 6/10\n",
      "71s - loss: 4.3447\n",
      "Epoch 7/10\n",
      "69s - loss: 4.8007\n",
      "Epoch 8/10\n",
      "70s - loss: 4.1961\n",
      "Epoch 9/10\n",
      "71s - loss: 4.1103\n",
      "Epoch 10/10\n",
      "72s - loss: 4.0146\n",
      " 928/1083 [========================>.....] - ETA: 0s\b\b\b\b\b\b\b\b\b\b\b\b\b\b\b\b\b\b\b\b\b\b\b\b\b\b\b\b\b\b\b\b\b\b\b\b\b\b\b\b\b\b\b\b\b\b\b\b\b\b\b\b\b\b\b\b\b\b\b\b\b\b\b\b\b\b\b\b\b\b\b\b\b\b\b\b\b\b\b\b\b\b\b\b\b\b\b\b\b\b\b\b\b\b\b\b\b\b\b\b\b\b\b\b\b\b\b\b\b\b\b\b\b\b\b\b\b\b\b\b\b\b\b\b\b\b\b\b\b\b\b\b\b\b\b\b\b\b\b\b\b\b\b\b\b\b\b\b\b\b\b\b\b\b\b\b\b\b\b\b\b\b\b\b\b\b\b\b\b\b\b\b\b\b\b\b\b\b\b\b\b\b\b\b\b\b\b\b\b\b\b\b\b\b\b\b\b\b\b\b\b\b\b\b\b\b\b\b"
     ]
    }
   ],
   "source": [
    "model = Sequential()\n",
    "model.add(LSTM(24, input_shape=(10, 6)))\n",
    "model.add(Dense(6))\n",
    "model.compile(loss='mean_squared_error', optimizer='adam')\n",
    "model.fit(trainX, trainY, epochs=10, batch_size=1, verbose=2)\n",
    "score = model.evaluate(testX, testY)"
   ]
  },
  {
   "cell_type": "markdown",
   "metadata": {},
   "source": [
    "### data 2"
   ]
  },
  {
   "cell_type": "code",
   "execution_count": 31,
   "metadata": {
    "collapsed": false
   },
   "outputs": [
    {
     "data": {
      "text/html": [
       "<div>\n",
       "<table border=\"1\" class=\"dataframe\">\n",
       "  <thead>\n",
       "    <tr style=\"text-align: right;\">\n",
       "      <th></th>\n",
       "      <th>d1</th>\n",
       "      <th>d2</th>\n",
       "      <th>d3</th>\n",
       "      <th>d4</th>\n",
       "      <th>d5</th>\n",
       "      <th>d6</th>\n",
       "    </tr>\n",
       "  </thead>\n",
       "  <tbody>\n",
       "    <tr>\n",
       "      <th>count</th>\n",
       "      <td>3313.000000</td>\n",
       "      <td>3313.000000</td>\n",
       "      <td>3313.000000</td>\n",
       "      <td>3313.000000</td>\n",
       "      <td>3313.000000</td>\n",
       "      <td>3313.000000</td>\n",
       "    </tr>\n",
       "    <tr>\n",
       "      <th>mean</th>\n",
       "      <td>24.811039</td>\n",
       "      <td>20.328523</td>\n",
       "      <td>23.739113</td>\n",
       "      <td>14.021725</td>\n",
       "      <td>-inf</td>\n",
       "      <td>17.804222</td>\n",
       "    </tr>\n",
       "    <tr>\n",
       "      <th>std</th>\n",
       "      <td>2.325009</td>\n",
       "      <td>2.633894</td>\n",
       "      <td>1.161522</td>\n",
       "      <td>2.234414</td>\n",
       "      <td>NaN</td>\n",
       "      <td>1.907775</td>\n",
       "    </tr>\n",
       "    <tr>\n",
       "      <th>min</th>\n",
       "      <td>-2.037200</td>\n",
       "      <td>3.160000</td>\n",
       "      <td>15.270000</td>\n",
       "      <td>-1.761200</td>\n",
       "      <td>-inf</td>\n",
       "      <td>7.531700</td>\n",
       "    </tr>\n",
       "    <tr>\n",
       "      <th>25%</th>\n",
       "      <td>24.546000</td>\n",
       "      <td>19.478000</td>\n",
       "      <td>23.102000</td>\n",
       "      <td>12.389000</td>\n",
       "      <td>21.419000</td>\n",
       "      <td>16.842000</td>\n",
       "    </tr>\n",
       "    <tr>\n",
       "      <th>50%</th>\n",
       "      <td>25.304000</td>\n",
       "      <td>21.031000</td>\n",
       "      <td>23.879000</td>\n",
       "      <td>13.921000</td>\n",
       "      <td>22.218000</td>\n",
       "      <td>17.609000</td>\n",
       "    </tr>\n",
       "    <tr>\n",
       "      <th>75%</th>\n",
       "      <td>25.856000</td>\n",
       "      <td>21.967000</td>\n",
       "      <td>24.512000</td>\n",
       "      <td>15.229000</td>\n",
       "      <td>23.186000</td>\n",
       "      <td>18.920000</td>\n",
       "    </tr>\n",
       "    <tr>\n",
       "      <th>max</th>\n",
       "      <td>30.672000</td>\n",
       "      <td>26.711000</td>\n",
       "      <td>26.440000</td>\n",
       "      <td>24.065000</td>\n",
       "      <td>26.960000</td>\n",
       "      <td>27.483000</td>\n",
       "    </tr>\n",
       "  </tbody>\n",
       "</table>\n",
       "</div>"
      ],
      "text/plain": [
       "                d1           d2           d3           d4           d5  \\\n",
       "count  3313.000000  3313.000000  3313.000000  3313.000000  3313.000000   \n",
       "mean     24.811039    20.328523    23.739113    14.021725         -inf   \n",
       "std       2.325009     2.633894     1.161522     2.234414          NaN   \n",
       "min      -2.037200     3.160000    15.270000    -1.761200         -inf   \n",
       "25%      24.546000    19.478000    23.102000    12.389000    21.419000   \n",
       "50%      25.304000    21.031000    23.879000    13.921000    22.218000   \n",
       "75%      25.856000    21.967000    24.512000    15.229000    23.186000   \n",
       "max      30.672000    26.711000    26.440000    24.065000    26.960000   \n",
       "\n",
       "                d6  \n",
       "count  3313.000000  \n",
       "mean     17.804222  \n",
       "std       1.907775  \n",
       "min       7.531700  \n",
       "25%      16.842000  \n",
       "50%      17.609000  \n",
       "75%      18.920000  \n",
       "max      27.483000  "
      ]
     },
     "execution_count": 31,
     "metadata": {},
     "output_type": "execute_result"
    }
   ],
   "source": [
    "df = pd.read_csv('data2.csv')\n",
    "df.drop('Unnamed: 0', axis=1, inplace=True)\n",
    "df.head()\n",
    "df.describe()"
   ]
  },
  {
   "cell_type": "code",
   "execution_count": 32,
   "metadata": {
    "collapsed": false
   },
   "outputs": [
    {
     "name": "stdout",
     "output_type": "stream",
     "text": [
      "2219 1094\n"
     ]
    }
   ],
   "source": [
    "import numpy as np\n",
    "dataRNN1 = []\n",
    "for i in df.index:\n",
    "    dataRNN1.append(df.loc[i])\n",
    "    \n",
    "dataRNN = np.array(dataRNN)\n",
    "train_size = int(len(dataRNN) * 0.67)\n",
    "test_size = len(dataRNN) - train_size\n",
    "print(train_size,test_size)\n",
    "train = dataRNN[0:train_size,:]\n",
    "test = dataRNN[train_size:len(dataRNN),:]\n",
    "look_back = 10\n",
    "trainX, trainY = create_dataset(train, look_back)\n",
    "testX, testY = create_dataset(test, look_back)"
   ]
  },
  {
   "cell_type": "code",
   "execution_count": 35,
   "metadata": {
    "collapsed": false
   },
   "outputs": [
    {
     "name": "stdout",
     "output_type": "stream",
     "text": [
      "Epoch 1/10\n",
      "63s - loss: 132.0817\n",
      "Epoch 2/10\n",
      "59s - loss: 5.9731\n",
      "Epoch 3/10\n",
      "58s - loss: 4.6234\n",
      "Epoch 4/10\n",
      "58s - loss: 4.4872\n",
      "Epoch 5/10\n",
      "59s - loss: 4.3931\n",
      "Epoch 6/10\n",
      "59s - loss: 4.2646\n",
      "Epoch 7/10\n",
      "60s - loss: 4.1595\n",
      "Epoch 8/10\n",
      "61s - loss: 4.0470\n",
      "Epoch 9/10\n",
      "64s - loss: 3.9255\n",
      "Epoch 10/10\n",
      "60s - loss: 3.8406\n",
      " 992/1083 [==========================>...] - ETA: 0s \b\b\b\b\b\b\b\b\b\b\b\b\b\b\b\b\b\b\b\b\b\b\b\b\b\b\b\b\b\b\b\b\b\b\b\b\b\b\b\b\b\b\b\b\b\b\b\b\b\b\b\b\b\b\b\b\b\b\b\b\b\b\b\b\b\b\b\b\b\b\b\b\b\b\b\b\b\b\b\b\b\b\b\b\b\b\b\b\b\b\b\b\b\b\b\b\b\b\b\b\b\b\b\b\b\b\b\b\b\b\b\b\b\b\b\b\b\b\b\b\b\b\b\b\b\b\b\b\b\b\b\b\b\b\b\b\b\b\b\b\b\b\b\b\b\b\b\b\b\b\b\b\b\b\b\b\b\b\b\b\b\b\b\b\b\b\b\b\b\b\b\b\b\b\b\b\b\b\b\b\b\b\b\b\b\b\b\b\b\b\b\b\b\b\b\b\b\b\b\b\b\b\b\b\b\b\b\b\b"
     ]
    }
   ],
   "source": [
    "model = Sequential()\n",
    "model.add(LSTM(24, input_shape=(10, 6)))\n",
    "model.add(Dense(6))\n",
    "model.compile(loss='mean_squared_error', optimizer='adam')\n",
    "model.fit(trainX, trainY, epochs=10, batch_size=1, verbose=2)\n",
    "score = model.evaluate(testX, testY)"
   ]
  },
  {
   "cell_type": "markdown",
   "metadata": {},
   "source": [
    "### data 3"
   ]
  },
  {
   "cell_type": "code",
   "execution_count": 36,
   "metadata": {
    "collapsed": false
   },
   "outputs": [
    {
     "data": {
      "text/html": [
       "<div>\n",
       "<table border=\"1\" class=\"dataframe\">\n",
       "  <thead>\n",
       "    <tr style=\"text-align: right;\">\n",
       "      <th></th>\n",
       "      <th>d1</th>\n",
       "      <th>d2</th>\n",
       "      <th>d3</th>\n",
       "      <th>d4</th>\n",
       "      <th>d5</th>\n",
       "      <th>d6</th>\n",
       "    </tr>\n",
       "  </thead>\n",
       "  <tbody>\n",
       "    <tr>\n",
       "      <th>count</th>\n",
       "      <td>3313.000000</td>\n",
       "      <td>3313.000000</td>\n",
       "      <td>3313.000000</td>\n",
       "      <td>3313.000000</td>\n",
       "      <td>3313.000000</td>\n",
       "      <td>3313.000000</td>\n",
       "    </tr>\n",
       "    <tr>\n",
       "      <th>mean</th>\n",
       "      <td>25.265554</td>\n",
       "      <td>21.243057</td>\n",
       "      <td>21.908483</td>\n",
       "      <td>25.807361</td>\n",
       "      <td>22.638101</td>\n",
       "      <td>27.448187</td>\n",
       "    </tr>\n",
       "    <tr>\n",
       "      <th>std</th>\n",
       "      <td>3.068670</td>\n",
       "      <td>2.682293</td>\n",
       "      <td>1.062800</td>\n",
       "      <td>0.783282</td>\n",
       "      <td>2.253364</td>\n",
       "      <td>1.109782</td>\n",
       "    </tr>\n",
       "    <tr>\n",
       "      <th>min</th>\n",
       "      <td>2.999300</td>\n",
       "      <td>6.165600</td>\n",
       "      <td>15.271000</td>\n",
       "      <td>17.533000</td>\n",
       "      <td>4.259100</td>\n",
       "      <td>-1.761400</td>\n",
       "    </tr>\n",
       "    <tr>\n",
       "      <th>25%</th>\n",
       "      <td>24.045000</td>\n",
       "      <td>20.393000</td>\n",
       "      <td>21.303000</td>\n",
       "      <td>25.399000</td>\n",
       "      <td>21.092000</td>\n",
       "      <td>26.918000</td>\n",
       "    </tr>\n",
       "    <tr>\n",
       "      <th>50%</th>\n",
       "      <td>26.186000</td>\n",
       "      <td>22.075000</td>\n",
       "      <td>21.912000</td>\n",
       "      <td>25.858000</td>\n",
       "      <td>22.847000</td>\n",
       "      <td>27.515000</td>\n",
       "    </tr>\n",
       "    <tr>\n",
       "      <th>75%</th>\n",
       "      <td>27.231000</td>\n",
       "      <td>23.075000</td>\n",
       "      <td>22.535000</td>\n",
       "      <td>26.301000</td>\n",
       "      <td>24.414000</td>\n",
       "      <td>28.070000</td>\n",
       "    </tr>\n",
       "    <tr>\n",
       "      <th>max</th>\n",
       "      <td>31.538000</td>\n",
       "      <td>25.611000</td>\n",
       "      <td>26.695000</td>\n",
       "      <td>28.301000</td>\n",
       "      <td>28.850000</td>\n",
       "      <td>30.238000</td>\n",
       "    </tr>\n",
       "  </tbody>\n",
       "</table>\n",
       "</div>"
      ],
      "text/plain": [
       "                d1           d2           d3           d4           d5  \\\n",
       "count  3313.000000  3313.000000  3313.000000  3313.000000  3313.000000   \n",
       "mean     25.265554    21.243057    21.908483    25.807361    22.638101   \n",
       "std       3.068670     2.682293     1.062800     0.783282     2.253364   \n",
       "min       2.999300     6.165600    15.271000    17.533000     4.259100   \n",
       "25%      24.045000    20.393000    21.303000    25.399000    21.092000   \n",
       "50%      26.186000    22.075000    21.912000    25.858000    22.847000   \n",
       "75%      27.231000    23.075000    22.535000    26.301000    24.414000   \n",
       "max      31.538000    25.611000    26.695000    28.301000    28.850000   \n",
       "\n",
       "                d6  \n",
       "count  3313.000000  \n",
       "mean     27.448187  \n",
       "std       1.109782  \n",
       "min      -1.761400  \n",
       "25%      26.918000  \n",
       "50%      27.515000  \n",
       "75%      28.070000  \n",
       "max      30.238000  "
      ]
     },
     "execution_count": 36,
     "metadata": {},
     "output_type": "execute_result"
    }
   ],
   "source": [
    "df = pd.read_csv('data3.csv')\n",
    "df.drop('Unnamed: 0', axis=1, inplace=True)\n",
    "df.head()\n",
    "df.describe()"
   ]
  },
  {
   "cell_type": "code",
   "execution_count": 37,
   "metadata": {
    "collapsed": false
   },
   "outputs": [
    {
     "name": "stdout",
     "output_type": "stream",
     "text": [
      "2219 1094\n"
     ]
    }
   ],
   "source": [
    "import numpy as np\n",
    "dataRNN1 = []\n",
    "for i in df.index:\n",
    "    dataRNN1.append(df.loc[i])\n",
    "    \n",
    "dataRNN = np.array(dataRNN)\n",
    "train_size = int(len(dataRNN) * 0.67)\n",
    "test_size = len(dataRNN) - train_size\n",
    "print(train_size,test_size)\n",
    "train = dataRNN[0:train_size,:]\n",
    "test = dataRNN[train_size:len(dataRNN),:]\n",
    "look_back = 10\n",
    "trainX, trainY = create_dataset(train, look_back)\n",
    "testX, testY = create_dataset(test, look_back)"
   ]
  },
  {
   "cell_type": "code",
   "execution_count": 38,
   "metadata": {
    "collapsed": false
   },
   "outputs": [
    {
     "name": "stdout",
     "output_type": "stream",
     "text": [
      "Epoch 1/10\n",
      "67s - loss: 177.5793\n",
      "Epoch 2/10\n",
      "65s - loss: 8.4374\n",
      "Epoch 3/10\n",
      "65s - loss: 4.6064\n",
      "Epoch 4/10\n",
      "65s - loss: 4.4499\n",
      "Epoch 5/10\n",
      "65s - loss: 4.2364\n",
      "Epoch 6/10\n",
      "65s - loss: 4.0507\n",
      "Epoch 7/10\n",
      "65s - loss: 3.9310\n",
      "Epoch 8/10\n",
      "65s - loss: 3.8342\n",
      "Epoch 9/10\n",
      "65s - loss: 3.7978\n",
      "Epoch 10/10\n",
      "66s - loss: 3.7918\n",
      "1056/1083 [============================>.] - ETA: 0s \b\b\b\b\b\b\b\b\b\b\b\b\b\b\b\b\b\b\b\b\b\b\b\b\b\b\b\b\b\b\b\b\b\b\b\b\b\b\b\b\b\b\b\b\b\b\b\b\b\b\b\b\b\b\b\b\b\b\b\b\b\b\b\b\b\b\b\b\b\b\b\b\b\b\b\b\b\b\b\b\b\b\b\b\b\b\b\b\b\b\b\b\b\b\b\b\b\b\b\b\b\b\b\b\b\b\b\b\b\b\b\b\b\b\b\b\b\b\b\b\b\b\b\b\b\b\b\b\b\b\b\b\b\b\b\b\b\b\b\b\b\b\b\b\b\b\b\b\b\b\b\b\b\b\b\b\b\b\b\b\b\b\b\b\b\b\b\b\b\b\b\b\b\b\b\b\b\b\b\b\b\b\b\b\b\b\b\b\b\b\b\b\b\b\b\b\b\b\b\b\b\b\b\b\b\b\b\b\b"
     ]
    }
   ],
   "source": [
    "model = Sequential()\n",
    "model.add(LSTM(24, input_shape=(10, 6)))\n",
    "model.add(Dense(6))\n",
    "model.compile(loss='mean_squared_error', optimizer='adam')\n",
    "model.fit(trainX, trainY, epochs=10, batch_size=1, verbose=2)\n",
    "score = model.evaluate(testX, testY)"
   ]
  },
  {
   "cell_type": "code",
   "execution_count": null,
   "metadata": {
    "collapsed": true
   },
   "outputs": [],
   "source": []
  }
 ],
 "metadata": {
  "kernelspec": {
   "display_name": "Python 3",
   "language": "python",
   "name": "python3"
  },
  "language_info": {
   "codemirror_mode": {
    "name": "ipython",
    "version": 3
   },
   "file_extension": ".py",
   "mimetype": "text/x-python",
   "name": "python",
   "nbconvert_exporter": "python",
   "pygments_lexer": "ipython3",
   "version": "3.6.0"
  }
 },
 "nbformat": 4,
 "nbformat_minor": 2
}
